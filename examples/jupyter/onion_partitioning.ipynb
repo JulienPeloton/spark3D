{
 "cells": [
  {
   "cell_type": "markdown",
   "metadata": {},
   "source": [
    "# The Onion Partitioning"
   ]
  },
  {
   "cell_type": "markdown",
   "metadata": {},
   "source": [
    "The idea is to load raw 3D data from a file, and re-partition the space according to the distance to the center of the space.\n",
    "Let's first load the needed dependencies for this exercise"
   ]
  },
  {
   "cell_type": "code",
   "execution_count": 1,
   "metadata": {},
   "outputs": [
    {
     "name": "stdout",
     "output_type": "stream",
     "text": [
      "Marking com.github.JulienPeloton:spark-fits_2.11:0.3.0 for download\n",
      "Preparing to fetch from:\n",
      "-> file:/var/folders/my/lfvl285927q2hzk545f39sy40000gn/T/toree_add_deps5357257577699850268/\n",
      "-> https://repo1.maven.org/maven2\n",
      "-> New file at /var/folders/my/lfvl285927q2hzk545f39sy40000gn/T/toree_add_deps5357257577699850268/https/repo1.maven.org/maven2/com/github/JulienPeloton/spark-fits_2.11/0.3.0/spark-fits_2.11-0.3.0.jar\n",
      "Marking com.github.haifengl:smile-plot:1.5.1 for download\n",
      "Preparing to fetch from:\n",
      "-> file:/var/folders/my/lfvl285927q2hzk545f39sy40000gn/T/toree_add_deps5357257577699850268/\n",
      "-> https://repo1.maven.org/maven2\n",
      "-> New file at /var/folders/my/lfvl285927q2hzk545f39sy40000gn/T/toree_add_deps5357257577699850268/https/repo1.maven.org/maven2/com/github/haifengl/smile-plot/1.5.1/smile-plot-1.5.1.jar\n",
      "Marking com.github.haifengl:smile-math:1.5.1 for download\n",
      "Preparing to fetch from:\n",
      "-> file:/var/folders/my/lfvl285927q2hzk545f39sy40000gn/T/toree_add_deps5357257577699850268/\n",
      "-> https://repo1.maven.org/maven2\n",
      "-> New file at /var/folders/my/lfvl285927q2hzk545f39sy40000gn/T/toree_add_deps5357257577699850268/https/repo1.maven.org/maven2/com/github/haifengl/smile-math/1.5.1/smile-math-1.5.1.jar\n",
      "Marking com.github.haifengl:smile-core:1.5.1 for download\n",
      "Preparing to fetch from:\n",
      "-> file:/var/folders/my/lfvl285927q2hzk545f39sy40000gn/T/toree_add_deps5357257577699850268/\n",
      "-> https://repo1.maven.org/maven2\n",
      "-> New file at /var/folders/my/lfvl285927q2hzk545f39sy40000gn/T/toree_add_deps5357257577699850268/https/repo1.maven.org/maven2/com/github/haifengl/smile-core/1.5.1/smile-core-1.5.1.jar\n",
      "Marking com.github.haifengl:smile-scala_2.11:1.5.1 for download\n",
      "Preparing to fetch from:\n",
      "-> file:/var/folders/my/lfvl285927q2hzk545f39sy40000gn/T/toree_add_deps5357257577699850268/\n",
      "-> https://repo1.maven.org/maven2\n",
      "-> New file at /var/folders/my/lfvl285927q2hzk545f39sy40000gn/T/toree_add_deps5357257577699850268/https/repo1.maven.org/maven2/com/github/haifengl/smile-scala_2.11/1.5.1/smile-scala_2.11-1.5.1.jar\n",
      "Marking org.swinglabs:swingx:1.6.1 for download\n",
      "Preparing to fetch from:\n",
      "-> file:/var/folders/my/lfvl285927q2hzk545f39sy40000gn/T/toree_add_deps5357257577699850268/\n",
      "-> https://repo1.maven.org/maven2\n",
      "-> New file at /var/folders/my/lfvl285927q2hzk545f39sy40000gn/T/toree_add_deps5357257577699850268/https/repo1.maven.org/maven2/org/swinglabs/swingx/1.6.1/swingx-1.6.1.jar\n",
      "Starting download from file:/Users/julien/Documents/workspace/myrepos/spark3D/target/scala-2.11/spark3d_2.11-0.1.0.jar\n",
      "Finished download of spark3d_2.11-0.1.0.jar\n",
      "Starting download from file:/Users/julien/Documents/workspace/myrepos/spark3D/lib/jhealpix.jar\n",
      "Finished download of jhealpix.jar\n"
     ]
    }
   ],
   "source": [
    "// Package to read data from FITS file\n",
    "%AddDeps com.github.JulienPeloton spark-fits_2.11 0.3.0\n",
    "\n",
    "// Smile provides visualisation tools\n",
    "%AddDeps com.github.haifengl smile-plot 1.5.1\n",
    "%AddDeps com.github.haifengl smile-math 1.5.1\n",
    "%AddDeps com.github.haifengl smile-core 1.5.1\n",
    "%AddDeps com.github.haifengl smile-scala_2.11 1.5.1\n",
    "\n",
    "// Contains extensions to the Swing GUI toolkit\n",
    "%AddDeps org.swinglabs swingx 1.6.1\n",
    "\n",
    "// Add the spark3d JAR. To generate it, run `sbt ++2.11.8 package at the root of the package`\n",
    "%AddJar file:/Users/julien/Documents/workspace/myrepos/spark3D/target/scala-2.11/spark3d_2.11-0.1.0.jar\n",
    "\n",
    "// Add healpix JAR\n",
    "%AddJar file:/Users/julien/Documents/workspace/myrepos/spark3D/lib/jhealpix.jar"
   ]
  },
  {
   "cell_type": "markdown",
   "metadata": {},
   "source": [
    "# From raw data RDD to Point3D RDD"
   ]
  },
  {
   "cell_type": "markdown",
   "metadata": {},
   "source": [
    "Load data from the test file provided in the spark3d repo.\n",
    "Our raw data contains points with 3D coordinates (spherical: r, theta, phi). Let's transform it into a Point3D RDD"
   ]
  },
  {
   "cell_type": "code",
   "execution_count": 2,
   "metadata": {
    "collapsed": true
   },
   "outputs": [],
   "source": [
    "import com.spark3d.spatial3DRDD._\n",
    "import org.apache.spark.sql.SparkSession\n",
    "val spark = SparkSession.builder().appName(\"OnionSpace\").getOrCreate()\n",
    "\n",
    "val fn = \"../../src/test/resources/astro_obs.fits\"\n",
    "val hdu = 1\n",
    "val columns = \"Z_COSMO,RA,DEC\"\n",
    "val spherical = true\n",
    "\n",
    "// Load the data\n",
    "val pointRDD = new Point3DRDDFromFITS(spark, fn, hdu, columns, spherical)"
   ]
  },
  {
   "cell_type": "markdown",
   "metadata": {},
   "source": [
    "# Repartitioning of the space"
   ]
  },
  {
   "cell_type": "markdown",
   "metadata": {},
   "source": [
    "By default, the pointRDD is partitioned randomly (i.e. Spark made partition regardless to the content of the file).\n",
    "Let's repartition our data based on the distance to the center (Onion Space)."
   ]
  },
  {
   "cell_type": "code",
   "execution_count": 3,
   "metadata": {
    "collapsed": true
   },
   "outputs": [],
   "source": [
    "import com.spark3d.utils.GridType\n",
    "\n",
    "// As we are in local mode, and the file is very small, the RDD pointRDD has only 1 partition.\n",
    "// For the sake of this example, let's increase the number of partition to 10.\n",
    "val pointRDD_part = pointRDD.spatialPartitioning(GridType.LINEARONIONGRID, 10)"
   ]
  },
  {
   "cell_type": "markdown",
   "metadata": {},
   "source": [
    "Let see how our space is now partitioned:"
   ]
  },
  {
   "cell_type": "code",
   "execution_count": 4,
   "metadata": {},
   "outputs": [
    {
     "name": "stdout",
     "output_type": "stream",
     "text": [
      "List(2104, 2038, 1985, 1974, 2027, 2026, 1898, 1962, 1974, 2012, 0)\n"
     ]
    }
   ],
   "source": [
    "val partitionsAfter = pointRDD_part.mapPartitions(iter => Array(iter.size).iterator, true).collect()\n",
    "\n",
    "// This is the number of objects per partition. \n",
    "// Last partition is 0 to include points outside (will change in the next release).\n",
    "println(partitionsAfter.toList)"
   ]
  },
  {
   "cell_type": "markdown",
   "metadata": {},
   "source": [
    "# Visualize the partitioning"
   ]
  },
  {
   "cell_type": "markdown",
   "metadata": {
    "collapsed": true
   },
   "source": [
    "Let's plot the partitioning!"
   ]
  },
  {
   "cell_type": "code",
   "execution_count": 16,
   "metadata": {
    "collapsed": true
   },
   "outputs": [],
   "source": [
    "import smile.plot._\n",
    "import java.awt.Color\n",
    "import java.awt.{GridLayout, Dimension}\n",
    "\n",
    "import javax.swing.JFrame\n",
    "import javax.swing.JPanel\n",
    "\n",
    "import com.spark3d.utils.Utils.sphericalToEuclidean\n",
    "\n",
    "// Set to \"show\" or \"save\"\n",
    "val display = \"show\"\n",
    "\n",
    "// Define palette of colors\n",
    "val colors = Array(Color.BLACK, Color.RED, Color.GREEN, Color.BLUE,\n",
    "  Color.PINK, Color.YELLOW, Color.DARK_GRAY, Color.ORANGE,\n",
    "  Color.MAGENTA, Color.CYAN)\n",
    "\n",
    "// Re-arange the data for plotting\n",
    "val rawData = pointRDD.rawRDD.repartition(10).map(\n",
    "  x=> sphericalToEuclidean(x).center.getCoordinate.toArray).glom.collect().toArray\n",
    "val partData = pointRDD_part.map(\n",
    "  x=> sphericalToEuclidean(x).center.getCoordinate.toArray).glom.collect().toArray\n",
    "\n",
    "// Plot the results\n",
    "val rawWindow = ScatterPlot.plot(dataRaw(0), '.', colors(0))\n",
    "for (part <- 1 to dataRaw.size - 2) {\n",
    "  rawWindow.points(dataRaw(part), '.', colors(part))\n",
    "}\n",
    "val partWindow = ScatterPlot.plot(data(0), '.', colors(0))\n",
    "for (part <- 1 to data.size - 2) {\n",
    "  partWindow.points(data(part), '.', colors(part))\n",
    "}\n",
    "\n",
    "// Display the result\n",
    "display match {\n",
    "  case \"show\" => {\n",
    "    val partFrame = new JFrame(\"Partitioned data\")\n",
    "    partFrame.setLocationRelativeTo(null)\n",
    "    partFrame.getContentPane().add(partWindow)\n",
    "    partFrame.setVisible(true)\n",
    "    partFrame.setSize(new Dimension(500, 500))\n",
    "      \n",
    "    val rawFrame = new JFrame(\"Raw data\")\n",
    "    rawFrame.setLocationRelativeTo(null)\n",
    "    rawFrame.getContentPane().add(rawWindow)\n",
    "    rawFrame.setVisible(true)\n",
    "    rawFrame.setSize(new Dimension(500, 500))\n",
    "  }\n",
    "  case \"save\" => {\n",
    "    val partHeadless = new Headless(partWindow);\n",
    "    partHeadless.pack();\n",
    "    partHeadless.setVisible(true);\n",
    "    partHeadless.setSize(new Dimension(500, 500))\n",
    "    partWindow.save(new java.io.File(\"myOnionFig.png\"))\n",
    "      \n",
    "    val rawHeadless = new Headless(rawWindow);\n",
    "    rawHeadless.pack();\n",
    "    rawHeadless.setVisible(true);\n",
    "    rawHeadless.setSize(new Dimension(500, 500))\n",
    "    rawWindow.save(new java.io.File(\"myOnionFigRaw.png\"))\n",
    "  }\n",
    "  case _ => throw new AssertionError(\"\"\"\n",
    "    I do not understand the kind of display you want.\n",
    "    Choose between \"show\" and \"save\".\n",
    "    \"\"\")\n",
    "}"
   ]
  },
  {
   "cell_type": "markdown",
   "metadata": {},
   "source": [
    "\n",
    "Raw partitioning             |  Onion Partitioning\n",
    ":-------------------------:|:-------------------------:\n",
    "![title](myOnionFigRaw.png)  |   ![title](myOnionFig.png)"
   ]
  },
  {
   "cell_type": "markdown",
   "metadata": {
    "collapsed": true
   },
   "source": [
    "Et voilà!"
   ]
  },
  {
   "cell_type": "code",
   "execution_count": null,
   "metadata": {
    "collapsed": true
   },
   "outputs": [],
   "source": []
  }
 ],
 "metadata": {
  "kernelspec": {
   "display_name": "Apache Toree - Scala",
   "language": "scala",
   "name": "apache_toree_scala"
  },
  "language_info": {
   "file_extension": ".scala",
   "name": "scala",
   "version": "2.11.8"
  }
 },
 "nbformat": 4,
 "nbformat_minor": 2
}
